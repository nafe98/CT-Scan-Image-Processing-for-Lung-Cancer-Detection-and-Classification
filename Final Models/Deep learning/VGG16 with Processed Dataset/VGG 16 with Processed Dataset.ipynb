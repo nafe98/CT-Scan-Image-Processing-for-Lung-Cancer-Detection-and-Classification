{
 "cells": [
  {
   "cell_type": "code",
   "execution_count": 1,
   "metadata": {},
   "outputs": [],
   "source": [
    "# import the libraries as shown below\n",
    "\n",
    "from keras.layers import Input, Lambda, Dense, Flatten\n",
    "from keras.models import Model\n",
    "from keras.applications.vgg16 import VGG16\n",
    "from keras.applications.vgg16 import preprocess_input\n",
    "from keras.preprocessing import image\n",
    "from keras.preprocessing.image import ImageDataGenerator\n",
    "from keras.models import Sequential\n",
    "import numpy as np\n",
    "from glob import glob\n",
    "import matplotlib.pyplot as plt"
   ]
  },
  {
   "cell_type": "code",
   "execution_count": 2,
   "metadata": {},
   "outputs": [],
   "source": [
    "# re-size all the images to this\n",
    "IMAGE_SIZE = [224, 224]\n",
    "\n",
    "train_path = 'Train'\n",
    "valid_path = 'Test'"
   ]
  },
  {
   "cell_type": "code",
   "execution_count": 3,
   "metadata": {},
   "outputs": [],
   "source": [
    "# Import the Vgg 16 library as shown below and add preprocessing layer to the front of VGG\n",
    "# Here we will be using imagenet weights\n",
    "\n",
    "vgg = VGG16(input_shape=IMAGE_SIZE + [3], weights='imagenet', include_top=False)"
   ]
  },
  {
   "cell_type": "code",
   "execution_count": 4,
   "metadata": {},
   "outputs": [],
   "source": [
    "# don't train existing weights\n",
    "for layer in vgg.layers:\n",
    "    layer.trainable = False"
   ]
  },
  {
   "cell_type": "code",
   "execution_count": 5,
   "metadata": {},
   "outputs": [],
   "source": [
    "# useful for getting number of output classes\n",
    "folders = glob('Train/*')"
   ]
  },
  {
   "cell_type": "code",
   "execution_count": 6,
   "metadata": {},
   "outputs": [],
   "source": [
    "# our layers - you can add more if you want\n",
    "x = Flatten()(vgg.output)"
   ]
  },
  {
   "cell_type": "code",
   "execution_count": 7,
   "metadata": {},
   "outputs": [],
   "source": [
    "prediction = Dense(len(folders), activation='softmax')(x)\n",
    "\n",
    "# create a model object\n",
    "model = Model(inputs=vgg.input, outputs=prediction)"
   ]
  },
  {
   "cell_type": "code",
   "execution_count": 8,
   "metadata": {},
   "outputs": [
    {
     "name": "stdout",
     "output_type": "stream",
     "text": [
      "Model: \"model\"\n",
      "_________________________________________________________________\n",
      "Layer (type)                 Output Shape              Param #   \n",
      "=================================================================\n",
      "input_1 (InputLayer)         [(None, 224, 224, 3)]     0         \n",
      "_________________________________________________________________\n",
      "block1_conv1 (Conv2D)        (None, 224, 224, 64)      1792      \n",
      "_________________________________________________________________\n",
      "block1_conv2 (Conv2D)        (None, 224, 224, 64)      36928     \n",
      "_________________________________________________________________\n",
      "block1_pool (MaxPooling2D)   (None, 112, 112, 64)      0         \n",
      "_________________________________________________________________\n",
      "block2_conv1 (Conv2D)        (None, 112, 112, 128)     73856     \n",
      "_________________________________________________________________\n",
      "block2_conv2 (Conv2D)        (None, 112, 112, 128)     147584    \n",
      "_________________________________________________________________\n",
      "block2_pool (MaxPooling2D)   (None, 56, 56, 128)       0         \n",
      "_________________________________________________________________\n",
      "block3_conv1 (Conv2D)        (None, 56, 56, 256)       295168    \n",
      "_________________________________________________________________\n",
      "block3_conv2 (Conv2D)        (None, 56, 56, 256)       590080    \n",
      "_________________________________________________________________\n",
      "block3_conv3 (Conv2D)        (None, 56, 56, 256)       590080    \n",
      "_________________________________________________________________\n",
      "block3_pool (MaxPooling2D)   (None, 28, 28, 256)       0         \n",
      "_________________________________________________________________\n",
      "block4_conv1 (Conv2D)        (None, 28, 28, 512)       1180160   \n",
      "_________________________________________________________________\n",
      "block4_conv2 (Conv2D)        (None, 28, 28, 512)       2359808   \n",
      "_________________________________________________________________\n",
      "block4_conv3 (Conv2D)        (None, 28, 28, 512)       2359808   \n",
      "_________________________________________________________________\n",
      "block4_pool (MaxPooling2D)   (None, 14, 14, 512)       0         \n",
      "_________________________________________________________________\n",
      "block5_conv1 (Conv2D)        (None, 14, 14, 512)       2359808   \n",
      "_________________________________________________________________\n",
      "block5_conv2 (Conv2D)        (None, 14, 14, 512)       2359808   \n",
      "_________________________________________________________________\n",
      "block5_conv3 (Conv2D)        (None, 14, 14, 512)       2359808   \n",
      "_________________________________________________________________\n",
      "block5_pool (MaxPooling2D)   (None, 7, 7, 512)         0         \n",
      "_________________________________________________________________\n",
      "flatten (Flatten)            (None, 25088)             0         \n",
      "_________________________________________________________________\n",
      "dense (Dense)                (None, 3)                 75267     \n",
      "=================================================================\n",
      "Total params: 14,789,955\n",
      "Trainable params: 75,267\n",
      "Non-trainable params: 14,714,688\n",
      "_________________________________________________________________\n"
     ]
    }
   ],
   "source": [
    "# view the structure of the model\n",
    "model.summary()"
   ]
  },
  {
   "cell_type": "code",
   "execution_count": 9,
   "metadata": {},
   "outputs": [],
   "source": [
    "# tell the model what cost and optimization method to use\n",
    "model.compile(\n",
    "  loss='categorical_crossentropy',\n",
    "  optimizer='adam',\n",
    "  metrics=['accuracy']\n",
    ")"
   ]
  },
  {
   "cell_type": "code",
   "execution_count": 10,
   "metadata": {},
   "outputs": [],
   "source": [
    "# Use the Image Data Generator to import the images from the dataset\n",
    "from keras.preprocessing.image import ImageDataGenerator\n",
    "\n",
    "train_datagen = ImageDataGenerator(rescale = 1./255,\n",
    "                                   shear_range = 0.2,\n",
    "                                   zoom_range = 0.2,\n",
    "                                   horizontal_flip = True)\n",
    "\n",
    "test_datagen = ImageDataGenerator(rescale = 1./255,\n",
    "                                   shear_range = 0.2,\n",
    "                                   zoom_range = 0.2,\n",
    "                                   horizontal_flip = True)"
   ]
  },
  {
   "cell_type": "code",
   "execution_count": 11,
   "metadata": {},
   "outputs": [
    {
     "name": "stdout",
     "output_type": "stream",
     "text": [
      "Found 775 images belonging to 3 classes.\n"
     ]
    }
   ],
   "source": [
    "# Make sure you provide the same target size as initialied for the image size\n",
    "training_set = train_datagen.flow_from_directory('Train',\n",
    "                                                 target_size = (224, 224),\n",
    "                                                 batch_size = 128,\n",
    "                                                 class_mode = 'categorical')"
   ]
  },
  {
   "cell_type": "code",
   "execution_count": 12,
   "metadata": {},
   "outputs": [
    {
     "name": "stdout",
     "output_type": "stream",
     "text": [
      "Found 322 images belonging to 3 classes.\n"
     ]
    }
   ],
   "source": [
    "test_set = test_datagen.flow_from_directory('Test',\n",
    "                                            target_size = (224, 224),\n",
    "                                            batch_size = 128,\n",
    "                                            class_mode = 'categorical')"
   ]
  },
  {
   "cell_type": "code",
   "execution_count": 13,
   "metadata": {},
   "outputs": [
    {
     "name": "stderr",
     "output_type": "stream",
     "text": [
      "C:\\Users\\nafem\\AppData\\Roaming\\Python\\Python38\\site-packages\\tensorflow\\python\\keras\\engine\\training.py:1844: UserWarning: `Model.fit_generator` is deprecated and will be removed in a future version. Please use `Model.fit`, which supports generators.\n",
      "  warnings.warn('`Model.fit_generator` is deprecated and '\n"
     ]
    },
    {
     "name": "stdout",
     "output_type": "stream",
     "text": [
      "Epoch 1/100\n",
      "7/7 [==============================] - 32s 3s/step - loss: 1.2660 - accuracy: 0.5843 - val_loss: 1.5881 - val_accuracy: 0.4224\n",
      "Epoch 2/100\n",
      "7/7 [==============================] - 10s 1s/step - loss: 1.1556 - accuracy: 0.5816 - val_loss: 1.1512 - val_accuracy: 0.6211\n",
      "Epoch 3/100\n",
      "7/7 [==============================] - 9s 1s/step - loss: 1.1112 - accuracy: 0.6945 - val_loss: 0.8354 - val_accuracy: 0.6770\n",
      "Epoch 4/100\n",
      "7/7 [==============================] - 9s 1s/step - loss: 0.6784 - accuracy: 0.7168 - val_loss: 0.5767 - val_accuracy: 0.7950\n",
      "Epoch 5/100\n",
      "7/7 [==============================] - 9s 2s/step - loss: 0.4368 - accuracy: 0.8567 - val_loss: 0.6314 - val_accuracy: 0.7143\n",
      "Epoch 6/100\n",
      "7/7 [==============================] - 9s 1s/step - loss: 0.4245 - accuracy: 0.8483 - val_loss: 0.7345 - val_accuracy: 0.6491\n",
      "Epoch 7/100\n",
      "7/7 [==============================] - 10s 1s/step - loss: 0.3855 - accuracy: 0.8679 - val_loss: 0.6292 - val_accuracy: 0.6957\n",
      "Epoch 8/100\n",
      "7/7 [==============================] - 9s 1s/step - loss: 0.3416 - accuracy: 0.8860 - val_loss: 0.6478 - val_accuracy: 0.6988\n",
      "Epoch 9/100\n",
      "7/7 [==============================] - 9s 1s/step - loss: 0.3566 - accuracy: 0.8812 - val_loss: 0.6205 - val_accuracy: 0.8012\n",
      "Epoch 10/100\n",
      "7/7 [==============================] - 10s 1s/step - loss: 0.5399 - accuracy: 0.8098 - val_loss: 0.8549 - val_accuracy: 0.6087\n",
      "Epoch 11/100\n",
      "7/7 [==============================] - 9s 1s/step - loss: 0.3725 - accuracy: 0.8482 - val_loss: 0.6837 - val_accuracy: 0.6957\n",
      "Epoch 12/100\n",
      "7/7 [==============================] - 10s 1s/step - loss: 0.3346 - accuracy: 0.8679 - val_loss: 0.5272 - val_accuracy: 0.7919\n",
      "Epoch 13/100\n",
      "7/7 [==============================] - 10s 1s/step - loss: 0.2794 - accuracy: 0.9095 - val_loss: 0.6557 - val_accuracy: 0.6957\n",
      "Epoch 14/100\n",
      "7/7 [==============================] - 9s 1s/step - loss: 0.2414 - accuracy: 0.9161 - val_loss: 0.7158 - val_accuracy: 0.7174\n",
      "Epoch 15/100\n",
      "7/7 [==============================] - 9s 1s/step - loss: 0.2623 - accuracy: 0.9064 - val_loss: 0.6948 - val_accuracy: 0.7112\n",
      "Epoch 16/100\n",
      "7/7 [==============================] - 9s 1s/step - loss: 0.2558 - accuracy: 0.9179 - val_loss: 0.5417 - val_accuracy: 0.7702\n",
      "Epoch 17/100\n",
      "7/7 [==============================] - 9s 1s/step - loss: 0.1902 - accuracy: 0.9476 - val_loss: 0.5226 - val_accuracy: 0.7857\n",
      "Epoch 18/100\n",
      "7/7 [==============================] - 9s 1s/step - loss: 0.2155 - accuracy: 0.9246 - val_loss: 0.6446 - val_accuracy: 0.7422\n",
      "Epoch 19/100\n",
      "7/7 [==============================] - 9s 1s/step - loss: 0.1936 - accuracy: 0.9348 - val_loss: 0.6714 - val_accuracy: 0.7081\n",
      "Epoch 20/100\n",
      "7/7 [==============================] - 9s 1s/step - loss: 0.1855 - accuracy: 0.9439 - val_loss: 0.7785 - val_accuracy: 0.6739\n",
      "Epoch 21/100\n",
      "7/7 [==============================] - 9s 1s/step - loss: 0.2020 - accuracy: 0.9537 - val_loss: 0.5369 - val_accuracy: 0.7888\n",
      "Epoch 22/100\n",
      "7/7 [==============================] - 9s 2s/step - loss: 0.2341 - accuracy: 0.9116 - val_loss: 0.7598 - val_accuracy: 0.7081\n",
      "Epoch 23/100\n",
      "7/7 [==============================] - 9s 1s/step - loss: 0.1911 - accuracy: 0.9522 - val_loss: 0.6046 - val_accuracy: 0.7298\n",
      "Epoch 24/100\n",
      "7/7 [==============================] - 9s 1s/step - loss: 0.1667 - accuracy: 0.9415 - val_loss: 0.6215 - val_accuracy: 0.7298\n",
      "Epoch 25/100\n",
      "7/7 [==============================] - 10s 1s/step - loss: 0.1350 - accuracy: 0.9714 - val_loss: 0.5222 - val_accuracy: 0.7857\n",
      "Epoch 26/100\n",
      "7/7 [==============================] - 9s 1s/step - loss: 0.1257 - accuracy: 0.9680 - val_loss: 0.6722 - val_accuracy: 0.6957\n",
      "Epoch 27/100\n",
      "7/7 [==============================] - 9s 2s/step - loss: 0.1194 - accuracy: 0.9789 - val_loss: 0.5478 - val_accuracy: 0.7888\n",
      "Epoch 28/100\n",
      "7/7 [==============================] - 9s 2s/step - loss: 0.1353 - accuracy: 0.9667 - val_loss: 0.5527 - val_accuracy: 0.7484\n",
      "Epoch 29/100\n",
      "7/7 [==============================] - 9s 1s/step - loss: 0.1235 - accuracy: 0.9710 - val_loss: 0.6729 - val_accuracy: 0.7205\n",
      "Epoch 30/100\n",
      "7/7 [==============================] - 9s 2s/step - loss: 0.1449 - accuracy: 0.9698 - val_loss: 0.5130 - val_accuracy: 0.8043\n",
      "Epoch 31/100\n",
      "7/7 [==============================] - 9s 1s/step - loss: 0.1166 - accuracy: 0.9706 - val_loss: 0.9022 - val_accuracy: 0.6398\n",
      "Epoch 32/100\n",
      "7/7 [==============================] - 9s 1s/step - loss: 0.1530 - accuracy: 0.9621 - val_loss: 0.4818 - val_accuracy: 0.8199\n",
      "Epoch 33/100\n",
      "7/7 [==============================] - 9s 1s/step - loss: 0.1597 - accuracy: 0.9411 - val_loss: 0.5976 - val_accuracy: 0.7484\n",
      "Epoch 34/100\n",
      "7/7 [==============================] - 9s 1s/step - loss: 0.1316 - accuracy: 0.9501 - val_loss: 0.6626 - val_accuracy: 0.7205\n",
      "Epoch 35/100\n",
      "7/7 [==============================] - 10s 1s/step - loss: 0.1207 - accuracy: 0.9710 - val_loss: 0.5408 - val_accuracy: 0.7981\n",
      "Epoch 36/100\n",
      "7/7 [==============================] - 10s 1s/step - loss: 0.1060 - accuracy: 0.9710 - val_loss: 0.5670 - val_accuracy: 0.7826\n",
      "Epoch 37/100\n",
      "7/7 [==============================] - 9s 1s/step - loss: 0.0957 - accuracy: 0.9808 - val_loss: 0.6660 - val_accuracy: 0.7298\n",
      "Epoch 38/100\n",
      "7/7 [==============================] - 9s 1s/step - loss: 0.0766 - accuracy: 0.9901 - val_loss: 0.5226 - val_accuracy: 0.7950\n",
      "Epoch 39/100\n",
      "7/7 [==============================] - 9s 1s/step - loss: 0.0885 - accuracy: 0.9709 - val_loss: 0.9956 - val_accuracy: 0.6398\n",
      "Epoch 40/100\n",
      "7/7 [==============================] - 9s 1s/step - loss: 0.1253 - accuracy: 0.9758 - val_loss: 0.5118 - val_accuracy: 0.7888\n",
      "Epoch 41/100\n",
      "7/7 [==============================] - 9s 1s/step - loss: 0.1030 - accuracy: 0.9740 - val_loss: 0.6681 - val_accuracy: 0.7453\n",
      "Epoch 42/100\n",
      "7/7 [==============================] - 9s 2s/step - loss: 0.1906 - accuracy: 0.9370 - val_loss: 0.8610 - val_accuracy: 0.7019\n",
      "Epoch 43/100\n",
      "7/7 [==============================] - 9s 1s/step - loss: 0.1743 - accuracy: 0.9268 - val_loss: 0.6760 - val_accuracy: 0.7267\n",
      "Epoch 44/100\n",
      "7/7 [==============================] - 9s 1s/step - loss: 0.0862 - accuracy: 0.9827 - val_loss: 0.5511 - val_accuracy: 0.7919\n",
      "Epoch 45/100\n",
      "7/7 [==============================] - 9s 1s/step - loss: 0.0798 - accuracy: 0.9793 - val_loss: 0.6758 - val_accuracy: 0.7205\n",
      "Epoch 46/100\n",
      "7/7 [==============================] - 9s 1s/step - loss: 0.0754 - accuracy: 0.9877 - val_loss: 0.5727 - val_accuracy: 0.7733\n",
      "Epoch 47/100\n",
      "7/7 [==============================] - 9s 1s/step - loss: 0.0750 - accuracy: 0.9866 - val_loss: 0.6877 - val_accuracy: 0.7360\n",
      "Epoch 48/100\n",
      "7/7 [==============================] - 9s 1s/step - loss: 0.0716 - accuracy: 0.9923 - val_loss: 0.5814 - val_accuracy: 0.7702\n",
      "Epoch 49/100\n",
      "7/7 [==============================] - 9s 1s/step - loss: 0.0706 - accuracy: 0.9800 - val_loss: 0.6499 - val_accuracy: 0.7329\n",
      "Epoch 50/100\n",
      "7/7 [==============================] - 10s 1s/step - loss: 0.0740 - accuracy: 0.9857 - val_loss: 0.5949 - val_accuracy: 0.7516\n",
      "Epoch 51/100\n",
      "7/7 [==============================] - 9s 1s/step - loss: 0.0666 - accuracy: 0.9942 - val_loss: 0.5403 - val_accuracy: 0.7795\n",
      "Epoch 52/100\n",
      "7/7 [==============================] - 10s 1s/step - loss: 0.0735 - accuracy: 0.9860 - val_loss: 0.5842 - val_accuracy: 0.7702\n",
      "Epoch 53/100\n",
      "7/7 [==============================] - 10s 1s/step - loss: 0.0658 - accuracy: 0.9910 - val_loss: 0.5853 - val_accuracy: 0.7547\n",
      "Epoch 54/100\n",
      "7/7 [==============================] - 10s 1s/step - loss: 0.0690 - accuracy: 0.9862 - val_loss: 0.5272 - val_accuracy: 0.8168\n",
      "Epoch 55/100\n",
      "7/7 [==============================] - 10s 1s/step - loss: 0.0674 - accuracy: 0.9882 - val_loss: 0.6008 - val_accuracy: 0.7609\n",
      "Epoch 56/100\n",
      "7/7 [==============================] - 9s 2s/step - loss: 0.0510 - accuracy: 0.9879 - val_loss: 0.6612 - val_accuracy: 0.7329\n",
      "Epoch 57/100\n",
      "7/7 [==============================] - 10s 1s/step - loss: 0.0571 - accuracy: 0.9954 - val_loss: 0.7422 - val_accuracy: 0.6957\n",
      "Epoch 58/100\n",
      "7/7 [==============================] - 10s 1s/step - loss: 0.0678 - accuracy: 0.9889 - val_loss: 0.5850 - val_accuracy: 0.8168\n",
      "Epoch 59/100\n",
      "7/7 [==============================] - 10s 1s/step - loss: 0.0925 - accuracy: 0.9685 - val_loss: 0.7691 - val_accuracy: 0.6894\n"
     ]
    },
    {
     "name": "stdout",
     "output_type": "stream",
     "text": [
      "Epoch 60/100\n",
      "7/7 [==============================] - 10s 1s/step - loss: 0.0725 - accuracy: 0.9862 - val_loss: 0.6650 - val_accuracy: 0.7671\n",
      "Epoch 61/100\n",
      "7/7 [==============================] - 9s 1s/step - loss: 0.0580 - accuracy: 0.9928 - val_loss: 0.5888 - val_accuracy: 0.7826\n",
      "Epoch 62/100\n",
      "7/7 [==============================] - 9s 1s/step - loss: 0.0641 - accuracy: 0.9867 - val_loss: 0.7323 - val_accuracy: 0.7453\n",
      "Epoch 63/100\n",
      "7/7 [==============================] - 10s 1s/step - loss: 0.0539 - accuracy: 0.9901 - val_loss: 0.5707 - val_accuracy: 0.7671\n",
      "Epoch 64/100\n",
      "7/7 [==============================] - 9s 1s/step - loss: 0.0529 - accuracy: 0.9973 - val_loss: 0.6377 - val_accuracy: 0.7547\n",
      "Epoch 65/100\n",
      "7/7 [==============================] - 10s 1s/step - loss: 0.0506 - accuracy: 0.9900 - val_loss: 0.6698 - val_accuracy: 0.7516\n",
      "Epoch 66/100\n",
      "7/7 [==============================] - 9s 1s/step - loss: 0.0550 - accuracy: 0.9851 - val_loss: 0.6132 - val_accuracy: 0.7453\n",
      "Epoch 67/100\n",
      "7/7 [==============================] - 10s 1s/step - loss: 0.0578 - accuracy: 0.9927 - val_loss: 0.5697 - val_accuracy: 0.7453\n",
      "Epoch 68/100\n",
      "7/7 [==============================] - 10s 1s/step - loss: 0.0441 - accuracy: 0.9931 - val_loss: 0.5829 - val_accuracy: 0.8075\n",
      "Epoch 69/100\n",
      "7/7 [==============================] - 10s 1s/step - loss: 0.0606 - accuracy: 0.9862 - val_loss: 0.6781 - val_accuracy: 0.7267\n",
      "Epoch 70/100\n",
      "7/7 [==============================] - 9s 1s/step - loss: 0.0490 - accuracy: 0.9896 - val_loss: 0.5023 - val_accuracy: 0.8075\n",
      "Epoch 71/100\n",
      "7/7 [==============================] - 10s 1s/step - loss: 0.0471 - accuracy: 0.9942 - val_loss: 0.5758 - val_accuracy: 0.7671\n",
      "Epoch 72/100\n",
      "7/7 [==============================] - 10s 1s/step - loss: 0.0471 - accuracy: 0.9940 - val_loss: 0.7763 - val_accuracy: 0.6863\n",
      "Epoch 73/100\n",
      "7/7 [==============================] - 10s 1s/step - loss: 0.0462 - accuracy: 0.9968 - val_loss: 0.5392 - val_accuracy: 0.7795\n",
      "Epoch 74/100\n",
      "7/7 [==============================] - 10s 1s/step - loss: 0.0530 - accuracy: 0.9873 - val_loss: 0.5969 - val_accuracy: 0.7702\n",
      "Epoch 75/100\n",
      "7/7 [==============================] - 9s 1s/step - loss: 0.0401 - accuracy: 0.9966 - val_loss: 0.6758 - val_accuracy: 0.7329\n",
      "Epoch 76/100\n",
      "7/7 [==============================] - 10s 1s/step - loss: 0.0431 - accuracy: 0.9945 - val_loss: 0.6786 - val_accuracy: 0.7640\n",
      "Epoch 77/100\n",
      "7/7 [==============================] - 9s 1s/step - loss: 0.0377 - accuracy: 0.9976 - val_loss: 0.5943 - val_accuracy: 0.7640\n",
      "Epoch 78/100\n",
      "7/7 [==============================] - 9s 1s/step - loss: 0.0331 - accuracy: 1.0000 - val_loss: 0.5713 - val_accuracy: 0.7795\n",
      "Epoch 79/100\n",
      "7/7 [==============================] - 9s 2s/step - loss: 0.0314 - accuracy: 0.9997 - val_loss: 0.5955 - val_accuracy: 0.7547\n",
      "Epoch 80/100\n",
      "7/7 [==============================] - 10s 1s/step - loss: 0.0391 - accuracy: 0.9963 - val_loss: 0.6393 - val_accuracy: 0.7422\n",
      "Epoch 81/100\n",
      "7/7 [==============================] - 10s 1s/step - loss: 0.0356 - accuracy: 0.9947 - val_loss: 0.5973 - val_accuracy: 0.7547\n",
      "Epoch 82/100\n",
      "7/7 [==============================] - 10s 1s/step - loss: 0.0328 - accuracy: 1.0000 - val_loss: 0.6070 - val_accuracy: 0.7484\n",
      "Epoch 83/100\n",
      "7/7 [==============================] - 10s 1s/step - loss: 0.0453 - accuracy: 0.9936 - val_loss: 0.8298 - val_accuracy: 0.7143\n",
      "Epoch 84/100\n",
      "7/7 [==============================] - 10s 1s/step - loss: 0.0494 - accuracy: 0.9903 - val_loss: 0.5622 - val_accuracy: 0.7919\n",
      "Epoch 85/100\n",
      "7/7 [==============================] - 9s 1s/step - loss: 0.0395 - accuracy: 0.9923 - val_loss: 0.7607 - val_accuracy: 0.7298\n",
      "Epoch 86/100\n",
      "7/7 [==============================] - 10s 1s/step - loss: 0.0398 - accuracy: 0.9962 - val_loss: 0.5360 - val_accuracy: 0.7888\n",
      "Epoch 87/100\n",
      "7/7 [==============================] - 10s 1s/step - loss: 0.0397 - accuracy: 0.9942 - val_loss: 0.7305 - val_accuracy: 0.7205\n",
      "Epoch 88/100\n",
      "7/7 [==============================] - 9s 2s/step - loss: 0.0342 - accuracy: 0.9953 - val_loss: 0.5922 - val_accuracy: 0.7795\n",
      "Epoch 89/100\n",
      "7/7 [==============================] - 9s 2s/step - loss: 0.0264 - accuracy: 0.9986 - val_loss: 0.6555 - val_accuracy: 0.7422\n",
      "Epoch 90/100\n",
      "7/7 [==============================] - 9s 1s/step - loss: 0.0303 - accuracy: 0.9973 - val_loss: 0.6391 - val_accuracy: 0.7764\n",
      "Epoch 91/100\n",
      "7/7 [==============================] - 9s 1s/step - loss: 0.0279 - accuracy: 0.9972 - val_loss: 0.6504 - val_accuracy: 0.7391\n",
      "Epoch 92/100\n",
      "7/7 [==============================] - 9s 2s/step - loss: 0.0282 - accuracy: 0.9970 - val_loss: 0.5719 - val_accuracy: 0.7950\n",
      "Epoch 93/100\n",
      "7/7 [==============================] - 9s 1s/step - loss: 0.0369 - accuracy: 0.9910 - val_loss: 0.6153 - val_accuracy: 0.7640\n",
      "Epoch 94/100\n",
      "7/7 [==============================] - 9s 2s/step - loss: 0.0413 - accuracy: 0.9977 - val_loss: 0.5833 - val_accuracy: 0.7795\n",
      "Epoch 95/100\n",
      "7/7 [==============================] - 9s 2s/step - loss: 0.0340 - accuracy: 0.9986 - val_loss: 0.7556 - val_accuracy: 0.6988\n",
      "Epoch 96/100\n",
      "7/7 [==============================] - 10s 1s/step - loss: 0.0366 - accuracy: 0.9992 - val_loss: 0.5301 - val_accuracy: 0.7857\n",
      "Epoch 97/100\n",
      "7/7 [==============================] - 10s 1s/step - loss: 0.0415 - accuracy: 0.9939 - val_loss: 0.7868 - val_accuracy: 0.6988\n",
      "Epoch 98/100\n",
      "7/7 [==============================] - 10s 1s/step - loss: 0.0374 - accuracy: 0.9987 - val_loss: 0.5708 - val_accuracy: 0.7764\n",
      "Epoch 99/100\n",
      "7/7 [==============================] - 9s 2s/step - loss: 0.0336 - accuracy: 0.9974 - val_loss: 0.7030 - val_accuracy: 0.7267\n",
      "Epoch 100/100\n",
      "7/7 [==============================] - 9s 1s/step - loss: 0.0270 - accuracy: 0.9979 - val_loss: 0.6462 - val_accuracy: 0.7578\n"
     ]
    }
   ],
   "source": [
    "# fit the model\n",
    "# Run the cell. It will take some time to execute\n",
    "r = model.fit_generator(\n",
    "  training_set,\n",
    "  validation_data=test_set,\n",
    "  epochs=100,\n",
    "  steps_per_epoch=len(training_set),\n",
    "  validation_steps=len(test_set)\n",
    ")"
   ]
  },
  {
   "cell_type": "code",
   "execution_count": 14,
   "metadata": {},
   "outputs": [
    {
     "name": "stderr",
     "output_type": "stream",
     "text": [
      "C:\\Users\\nafem\\AppData\\Roaming\\Python\\Python38\\site-packages\\tensorflow\\python\\keras\\engine\\training.py:1877: UserWarning: `Model.evaluate_generator` is deprecated and will be removed in a future version. Please use `Model.evaluate`, which supports generators.\n",
      "  warnings.warn('`Model.evaluate_generator` is deprecated and '\n"
     ]
    },
    {
     "name": "stdout",
     "output_type": "stream",
     "text": [
      "WARNING:tensorflow:Your input ran out of data; interrupting training. Make sure that your dataset or generator can generate at least `steps_per_epoch * epochs` batches (in this case, 128 batches). You may need to use the repeat() function when building your dataset.\n",
      "[INFO] accuracy: 77.95%\n",
      "[INFO] Loss:  0.5632528066635132\n"
     ]
    }
   ],
   "source": [
    "test_score = model.evaluate_generator(test_set, 128)\n",
    "\n",
    "print(\"[INFO] accuracy: {:.2f}%\".format(test_score[1] * 100)) \n",
    "\n",
    "print(\"[INFO] Loss: \",test_score[0])"
   ]
  },
  {
   "cell_type": "code",
   "execution_count": 15,
   "metadata": {},
   "outputs": [
    {
     "data": {
      "text/plain": [
       "Text(0.5, 1.0, 'Accuracy Curves')"
      ]
     },
     "execution_count": 15,
     "metadata": {},
     "output_type": "execute_result"
    },
    {
     "data": {
      "image/png": "[encoded data removed]",
      "text/plain": [
       "<Figure size 576x432 with 1 Axes>"
      ]
     },
     "metadata": {
      "needs_background": "light"
     },
     "output_type": "display_data"
    }
   ],
   "source": [
    "# Accuracy Curves\n",
    "\n",
    "plt.figure(figsize=[8,6])\n",
    "\n",
    "plt.plot(r.history['accuracy'],'r',linewidth=3.0)\n",
    "\n",
    "plt.plot(r.history['val_accuracy'],'b',linewidth=3.0)\n",
    "\n",
    "plt.legend(['Training Accuracy', 'Validation Accuracy'],fontsize=18)\n",
    "\n",
    "plt.xlabel('Epochs ',fontsize=16)\n",
    "\n",
    "plt.ylabel('Accuracy',fontsize=16)\n",
    "\n",
    "plt.title('Accuracy Curves',fontsize=16)"
   ]
  },
  {
   "cell_type": "code",
   "execution_count": 16,
   "metadata": {},
   "outputs": [
    {
     "data": {
      "text/plain": [
       "Text(0.5, 1.0, 'Loss Curves')"
      ]
     },
     "execution_count": 16,
     "metadata": {},
     "output_type": "execute_result"
    },
    {
     "data": {
      "image/png": "[encoded data removed]",
      "text/plain": [
       "<Figure size 576x432 with 1 Axes>"
      ]
     },
     "metadata": {
      "needs_background": "light"
     },
     "output_type": "display_data"
    }
   ],
   "source": [
    "# Loss Curves\n",
    "\n",
    "plt.figure(figsize=[8,6])\n",
    "\n",
    "plt.plot(r.history['loss'],'r',linewidth=3.0)\n",
    "\n",
    "plt.plot(r.history['val_loss'],'b',linewidth=3.0)\n",
    "\n",
    "plt.legend(['Training loss', 'Validation Loss'],fontsize=18)\n",
    "\n",
    "plt.xlabel('Epochs ',fontsize=16)\n",
    "\n",
    "plt.ylabel('Loss',fontsize=16)\n",
    "\n",
    "plt.title('Loss Curves',fontsize=16)"
   ]
  },
  {
   "cell_type": "code",
   "execution_count": 17,
   "metadata": {},
   "outputs": [],
   "source": [
    "target_names = []\n",
    "\n",
    "for key in  training_set.class_indices:\n",
    "\n",
    "    target_names.append(key)"
   ]
  },
  {
   "cell_type": "code",
   "execution_count": 18,
   "metadata": {},
   "outputs": [
    {
     "data": {
      "text/plain": [
       "['Bengin cases', 'Malignant cases', 'Normal cases']"
      ]
     },
     "execution_count": 18,
     "metadata": {},
     "output_type": "execute_result"
    }
   ],
   "source": [
    "target_names"
   ]
  },
  {
   "cell_type": "code",
   "execution_count": 19,
   "metadata": {},
   "outputs": [
    {
     "name": "stdout",
     "output_type": "stream",
     "text": [
      "Classification Report\n",
      "                 precision    recall  f1-score   support\n",
      "\n",
      "   Bengin cases       0.09      0.15      0.11        26\n",
      "Malignant cases       0.56      0.54      0.55       170\n",
      "   Normal cases       0.41      0.37      0.39       126\n",
      "\n",
      "       accuracy                           0.44       322\n",
      "      macro avg       0.36      0.36      0.35       322\n",
      "   weighted avg       0.47      0.44      0.45       322\n",
      "\n"
     ]
    }
   ],
   "source": [
    "#Print Classification Report\n",
    "Y_pred = model.predict(test_set)\n",
    "\n",
    "y_pred = np.argmax(Y_pred, axis=1)\n",
    "from sklearn.metrics import classification_report\n",
    "print('Classification Report')\n",
    "\n",
    "print(classification_report(test_set.classes, y_pred, target_names=target_names))"
   ]
  },
  {
   "cell_type": "code",
   "execution_count": null,
   "metadata": {},
   "outputs": [],
   "source": []
  }
 ],
 "metadata": {
  "kernelspec": {
   "display_name": "gpu",
   "language": "python",
   "name": "gpu"
  },
  "language_info": {
   "codemirror_mode": {
    "name": "ipython",
    "version": 3
   },
   "file_extension": ".py",
   "mimetype": "text/x-python",
   "name": "python",
   "nbconvert_exporter": "python",
   "pygments_lexer": "ipython3",
   "version": "3.7.11"
  }
 },
 "nbformat": 4,
 "nbformat_minor": 4
}
